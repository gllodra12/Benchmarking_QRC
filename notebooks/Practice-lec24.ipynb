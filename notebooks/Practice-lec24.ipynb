{
 "cells": [
  {
   "cell_type": "markdown",
   "metadata": {},
   "source": [
    "# Practice - Lecture 24\n",
    "\n",
    "During this lecture we are going to use the library \"benchmarking_qrc\" to learn about quantum reservoir computing. But, we will also use numpy to allow new learners to experiment and built the own code."
   ]
  },
  {
   "cell_type": "code",
   "execution_count": 1,
   "metadata": {},
   "outputs": [],
   "source": [
    "# Only for local use\n",
    "import os\n",
    "import sys\n",
    "\n",
    "repo_path = os.path.dirname(os.getcwd())\n",
    "package_path = repo_path + \"/src\"\n",
    "sys.path.append(package_path)"
   ]
  },
  {
   "cell_type": "code",
   "execution_count": 2,
   "metadata": {},
   "outputs": [],
   "source": [
    "import matplotlib.pyplot as plt\n",
    "import matplotlib.patches as mpatches\n",
    "import numpy as np\n",
    "import pathlib\n",
    "from scipy.linalg import lstsq\n",
    "\n",
    "import benchmarking_qrc as qrc\n",
    "from benchmarking_qrc import run_memory_capacity as mc"
   ]
  },
  {
   "cell_type": "markdown",
   "metadata": {},
   "source": [
    "### Exercise 0 - Define density matrix and hamiltonian\n",
    "\n",
    "In this first exercise, we will learn to define a quantum state in the density matrix formalism and construct our first hamiltonian.\n",
    "\n",
    "To define the initial state you can use `qrc.reservoir.initial_state(num_sites, dim_site)` or `numpy`."
   ]
  },
  {
   "cell_type": "code",
   "execution_count": 3,
   "metadata": {},
   "outputs": [],
   "source": [
    "def initial_reservoir(num_sites, dim_site):\n",
    "    \"\"\"Density matrix with all states at |0>\n",
    "\n",
    "    Args:\n",
    "        num_sites (int): Number of sites in the system\n",
    "        dim_site (int): Hilbert dimension of each site.\n",
    "    \"\"\"\n",
    "    # Put your code here: Prepare the state |00><00|\n",
    "    return qrc.reservoir.initial_state(num_sites, dim_site)"
   ]
  },
  {
   "cell_type": "code",
   "execution_count": 4,
   "metadata": {},
   "outputs": [],
   "source": [
    "def check_solution(solution, exp_solution):\n",
    "    \n",
    "    if solution.shape == exp_solution.shape:\n",
    "        if np.all(solution == exp_solution):\n",
    "            print(\"Correct!\")\n",
    "        else:\n",
    "            print(\"Try again!\")\n",
    "    else:\n",
    "        print(\"Try again!\")"
   ]
  },
  {
   "cell_type": "code",
   "execution_count": 5,
   "metadata": {},
   "outputs": [
    {
     "name": "stdout",
     "output_type": "stream",
     "text": [
      "Correct!\n"
     ]
    }
   ],
   "source": [
    "#solution = initial_reservoir(2, 2)\n",
    "solution = initial_reservoir(2, 2)\n",
    "exp_solution = np.array([[1, 0, 0, 0], [0]*4, [0]*4, [0]*4])\n",
    "\n",
    "check_solution(solution, exp_solution)"
   ]
  },
  {
   "cell_type": "markdown",
   "metadata": {},
   "source": [
    "Now, we will define the dynamics of the system following this quadratic hamiltonian \n",
    "$$ H = \\sum_{i,j=1}^{N}J_{ij}a_{i}^{\\dagger}a_{j} $$\n",
    "and the evolution operator associated to it: $e^{-iH\\Delta t}$.\n",
    "\n",
    "You can define the $J_{ij}$ coefficients with: \n",
    "- `qrc.hamiltonian.get_coefficients(num_sites, coef_range=[0, 1], seed=1)`.  \n",
    "\n",
    "Define a quadratic hamiltonian with:  \n",
    "- `qrc.hamiltonian.quadratic_op(num_sites, is_bosonic=..., dimensions=..., coefficients=...)`\n",
    "\n",
    "and build the evolution operator with:\n",
    "-  `qrc.hamiltonian.get_evolution_op(hamiltonian, dt=...)`\n"
   ]
  },
  {
   "cell_type": "code",
   "execution_count": 6,
   "metadata": {},
   "outputs": [],
   "source": [
    "def my_hamiltonian(num_sites, dim_site):\n",
    "    \"\"\"Define previous quadratic hamiltonian\n",
    "\n",
    "    Args:\n",
    "        num_sites (int): Number of sites in the system.\n",
    "        dim_site (int): Hilbert dimension of each site.\n",
    "    \"\"\"\n",
    "    # Put your code here: Define J_ij coefficients\n",
    "    J_ij = qrc.hamiltonian.get_coefficients(num_sites, coef_range=[0, 1], seed=1) \n",
    "    \n",
    "    # Put your code here: Define quadratic hamiltonian\n",
    "    return qrc.hamiltonian.quadratic_op(num_sites, is_bosonic=False, dimensions=dim_site, coefficients=J_ij)\n",
    "\n",
    "\n",
    "def evolution_op(hamiltonian, delta_t):\n",
    "    \"\"\"Define the evolution operator related to the previous hamiltonian\n",
    "    and let it evolves for 10 units.\n",
    "\n",
    "    Args:\n",
    "        hamiltonian (np.array): Matrix describing system dynamics.\n",
    "        delta_t (float): Time we let the system evolve.\n",
    "    \"\"\"\n",
    "    # Put your code here: Define evolution operator\n",
    "    return qrc.hamiltonian.get_evolution_op(hamiltonian, dt=delta_t)\n",
    "    \n",
    "    "
   ]
  },
  {
   "cell_type": "code",
   "execution_count": 7,
   "metadata": {},
   "outputs": [
    {
     "name": "stdout",
     "output_type": "stream",
     "text": [
      "Checking solution hamiltonian...\n",
      "Correct!\n",
      "Checking evolution operator...\n",
      "Correct!\n"
     ]
    }
   ],
   "source": [
    "solution_hamiltonian = my_hamiltonian(2, 2)\n",
    "solution_evolution = evolution_op(my_hamiltonian(2, 2), 10)\n",
    "\n",
    "\n",
    "exp_sol_hamiltonian = np.array([\n",
    "    [0.+0.j]*4, \n",
    "    [0.+0.j, 0.72+0.j, 0.+0.j  , 0.+0.j  ], \n",
    "    [0.+0.j, 0.+0.j  , 0.42+0.j, 0.+0.j  ], \n",
    "    [0.+0.j, 0.+0.j  , 0.+0.j  , 1.14+0.j]\n",
    "])\n",
    "exp_sol_evolution = np.array([\n",
    "   [ 1.+0.j, 0.  +0.j ,  0.  +0.j  ,  0.  +0.j  ], \n",
    "   [ 0.+0.j, 0.61-0.8j,  0.  -0.j  ,  0.  +0.j  ],\n",
    "   [ 0.+0.j, 0.  -0.j , -0.52+0.86j,  0.  +0.j  ],\n",
    "   [ 0.+0.j, 0.  +0.j ,  0.  +0.j  ,  0.37+0.93j]\n",
    "])\n",
    "\n",
    "print(\"Checking solution hamiltonian...\")\n",
    "check_solution(np.around(solution_hamiltonian.todense(), 2), exp_sol_hamiltonian)\n",
    "print(\"Checking evolution operator...\")\n",
    "check_solution(np.around(solution_evolution, 2), exp_sol_evolution)\n"
   ]
  },
  {
   "cell_type": "markdown",
   "metadata": {},
   "source": [
    "### Exercise 1 - Echo State Property\n",
    "\n",
    "To avoid any possible effect of the initial conditions of the reservoir we always start with the wash out step before training the system. This step consists in injecting a set of inputs until the initial conditions become irrelevant.\n",
    "\n",
    "So, in this section, you are going to compute how many iterations (wash-out steps) does your system need to wash out the initial conditions.\n",
    "\n",
    "Each iteration have these 3 steps:\n",
    "- Encoding classical data into a quantum state $\\Longrightarrow \\lvert \\psi_k^{(e)} \\rangle$.\n",
    "    - qrc.reservoir.get_input_state(signal, dim, exc_state)\n",
    "    - $ \\lvert \\psi_k^{(e=1)} \\rangle = \\sqrt{s_k}\\lvert 0 \\rangle + \\sqrt{1-s_k}\\lvert 1 \\rangle$\n",
    "- Injecting the quantum state into the reservoir $\\Longrightarrow \\rho(k)$.\n",
    "    - qrc.reservoir.insert_input(input_state, initial_reservoir)\n",
    "    - $ \\rho(k\\Delta t)= \\rho_{1, k}^{(e)} \\otimes {\\rm Tr}_{1}\\left\\{ \\rho\\left(\\left(k-1\\right)\\Delta t\\right)\\right\\} $\n",
    "- Evolving the reservoir $\\Longrightarrow  \\rho(k\\Delta t)$.\n",
    "    - qrc.reservoir.evolve(reservoir, evo_op)\n",
    "    - $ \\rho\\left(k\\Delta t\\right)=e^{-iH\\Delta t}\\left[\\rho_{1,k}^{(e)}\\otimes {\\rm Tr}_{1}\\left\\{ \\rho\\left(\\left(k-1\\right)\\Delta t\\right)\\right\\} \\right]e^{iH\\Delta t} $\n",
    "\n",
    "So, let's start building these 3 functions:\n"
   ]
  },
  {
   "cell_type": "code",
   "execution_count": 12,
   "metadata": {},
   "outputs": [],
   "source": [
    "# Use signal=0.25 to test your solution\n",
    "def get_input_state(signal, dim_site, exc_state=1):\n",
    "    \"\"\"Encode classical data into a superposition state\n",
    "\n",
    "        |ψ> = √s|0> + √1-s|1>\n",
    "\n",
    "    Args:\n",
    "        signal (float): Classical data.\n",
    "        dim_site (int): Hilbert dimension of each site.\n",
    "        exc_state (int): Highest superposition state\n",
    "    \"\"\"\n",
    "    # Put your code here: \n",
    "    return qrc.reservoir.get_input_state(signal, dim_site, exc_state)\n",
    "\n",
    "\n",
    "def inject_state(input_state, reservoir):\n",
    "    \"\"\"Introduce the input state into the reservoir\n",
    "\n",
    "    Args:\n",
    "        input_state (np.array): Classical data in a superposition state.\n",
    "        reservoir (np.array): Current state of the quantum system\n",
    "\n",
    "    \"\"\"\n",
    "    # Put your code here:\n",
    "    return qrc.reservoir.insert_input(input_state, reservoir)\n",
    "\n",
    "\n",
    "def evolve_reservoir(reservoir, evo_op):\n",
    "    \"\"\"Evolve the quantum system following the evolution operator.\n",
    "\n",
    "    Args:\n",
    "        reservoir (np.array): Current state of the quantum system\n",
    "        evo_op (np.array): Evolution operator\n",
    "    \"\"\"\n",
    "    # Put your code here:\n",
    "    return qrc.reservoir.evolve(reservoir, evo_op)"
   ]
  },
  {
   "cell_type": "code",
   "execution_count": 28,
   "metadata": {},
   "outputs": [
    {
     "name": "stdout",
     "output_type": "stream",
     "text": [
      "Checking solution input state...\n",
      "Correct!\n",
      "Checking evolution inject state...\n",
      "Correct!\n",
      "Checking evolution evolve reservoir...\n",
      "Correct!\n"
     ]
    }
   ],
   "source": [
    "# Use signal = 0.25\n",
    "sol_input_state = get_input_state(0.25, dim_site=2)\n",
    "\n",
    "# Inject the previous input and the initial reservoir\n",
    "sol_inject_state = inject_state(sol_input_state, initial_reservoir(2, 2))\n",
    "\n",
    "# Evolve the reservoir with the classical data\n",
    "sol_evolve_reservoir = evolve_reservoir(sol_inject_state, evolution_op(my_hamiltonian(2, 2), 10))\n",
    "\n",
    "\n",
    "exp_input_state = np.array([[np.sqrt(0.25)], [np.sqrt(1-0.25)]])\n",
    "exp_inject_state = np.array([\n",
    "   [ 0.25     , 0.  ,  0.433    ,  0.], \n",
    "   [ 0.       , 0.  ,  0.       ,  0.],\n",
    "   [ 0.433    , 0.  ,  0.75     ,  0.],\n",
    "   [ 0.       , 0.  ,  0.       ,  0.]\n",
    "])\n",
    "exp_evolve_reservoir = np.array([\n",
    "   [ 0.25 +0.j  , 0.  +0.j ,  -0.22-0.37j,  0.  +0.j], \n",
    "   [ 0.   +0.j  , 0.  -0.j,   0.  -0.j   ,   0.  +0.j],\n",
    "   [ -0.22+0.37j, 0.  -0.j ,  0.75+0.j   ,   0.  +0.j],\n",
    "   [ 0.   +0.j  , 0.  +0.j ,  0.  +0.j   ,   0.  +0.j]\n",
    "])\n",
    "\n",
    "print(\"Checking solution input state...\")\n",
    "check_solution(sol_input_state, exp_input_state)\n",
    "print(\"Checking evolution inject state...\")\n",
    "check_solution(np.around(sol_inject_state, 3), exp_inject_state)\n",
    "print(\"Checking evolution evolve reservoir...\")\n",
    "check_solution(np.around(sol_evolve_reservoir, 2), exp_evolve_reservoir)\n",
    "\n",
    "    "
   ]
  },
  {
   "cell_type": "markdown",
   "metadata": {},
   "source": [
    "Usually these 3 steps are defined with the following map:\n",
    "\n",
    "$$ \\rho\\left(k\\Delta t\\right)=e^{-iH\\Delta t}\\left[\\rho_{1,k}^{(e)}\\otimes {\\rm Tr}_{1}\\left\\{ \\rho\\left(\\left(k-1\\right)\\Delta t\\right)\\right\\} \\right]e^{iH\\Delta t} $$\n",
    "\n",
    "Now it will be great if you could buid a new function with the previous functions."
   ]
  },
  {
   "cell_type": "code",
   "execution_count": 53,
   "metadata": {},
   "outputs": [],
   "source": [
    "def cptp_map(signals, ini_reservoir, evo_op, dim_site=2, exc_state=1):\n",
    "    \"\"\"Generates a new reservoir state after completing the 3-step iteration.\n",
    "            1. Encode classical data into a quantum state.\n",
    "            2. Injecting the quantum state into the reservoir.\n",
    "            3. Evolving the reservoir.\n",
    "\n",
    "    Args:\n",
    "        signals (np.array): List of numbers that it is going to be injected into the reservoir.\n",
    "        ini_reservoir (np.array): Initial state of the reservoir\n",
    "        evo_op (np.array): Evolution operator.\n",
    "    \"\"\"\n",
    "    new_reservoir = ini_reservoir\n",
    "    for signal in signals:\n",
    "        # Put your code here:\n",
    "        #input_state = ...\n",
    "        #new_reservoir = ...\n",
    "        #new_reservoir = ...\n",
    "        \n",
    "        input_state = get_input_state(signal, dim_site, exc_state)\n",
    "        new_reservoir = inject_state(input_state, new_reservoir)\n",
    "        new_reservoir = evolve_reservoir(new_reservoir, evo_op)\n",
    "        yield new_reservoir"
   ]
  },
  {
   "cell_type": "code",
   "execution_count": 54,
   "metadata": {},
   "outputs": [
    {
     "name": "stdout",
     "output_type": "stream",
     "text": [
      "Checking solution cptp map...\n",
      "Correct!\n"
     ]
    }
   ],
   "source": [
    "# Check solution:\n",
    "sol_cptp_map = list(cptp_map([0.25], initial_reservoir(2, 2), evolution_op(my_hamiltonian(2, 2), 10)))\n",
    "\n",
    "exp_sol_cptp = np.array([\n",
    "   [ 0.25 +0.j  , 0.  +0.j ,  -0.22-0.37j,  0.  +0.j], \n",
    "   [ 0.   +0.j  , 0.  -0.j,   0.  -0.j   ,   0.  +0.j],\n",
    "   [ -0.22+0.37j, 0.  -0.j ,  0.75+0.j   ,   0.  +0.j],\n",
    "   [ 0.   +0.j  , 0.  +0.j ,  0.  +0.j   ,   0.  +0.j]\n",
    "])\n",
    "\n",
    "print(\"Checking solution cptp map...\")\n",
    "check_solution(np.around(sol_cptp_map[0], 2), exp_sol_cptp)\n"
   ]
  },
  {
   "cell_type": "markdown",
   "metadata": {},
   "source": [
    "Find how many iterations do you need to erase the initial conditions of the reservoir."
   ]
  },
  {
   "cell_type": "code",
   "execution_count": 33,
   "metadata": {},
   "outputs": [],
   "source": [
    "def excited_reservoir(num_sites: int, dim_site: int, exc_sites=list()):\n",
    "    \"\"\"By default the reservoir has all sites at |0>, except the sites in \n",
    "    exc_sites found at |1>\n",
    "    \"\"\"\n",
    "    pass\n",
    "\n",
    "def convergence(rho_a, rho_b):\n",
    "    pass\n",
    "\n",
    "\n",
    "def echo_state_property(signals, num_sites, dim_site, exc_sites_a, exc_sites_b, dt):\n",
    "    # Create two initial reservoir: |0010><0010| and |0001><0001|\n",
    "    # TODO: Check que es comentari i lo que faig coincideixi\n",
    "    rho_a = excited_reservoir(num_sites, dim_site, exc_sites_a)\n",
    "    rho_b = excited_reservoir(num_sites, dim_site, exc_sites_b)\n",
    "    \n",
    "    # Compute evolution operator    \n",
    "    hamiltonian = my_hamiltonian(num_sites, dim_site)\n",
    "    evo_op = evolution_op(hamiltonian, dt)\n",
    "    \n",
    "    # Evolve the reservoir state\n",
    "    rho_a_generator = cptp_map(signals, rho_a, evo_op, dim_site=dim_site)\n",
    "    rho_b_generator = cptp_map(signals, rho_b, evo_op, dim_site=dim_site)\n",
    "    \n",
    "    # Measure the Frobenius distance \n",
    "    return convergence(rho_a_generator, rho_b_generator)"
   ]
  },
  {
   "cell_type": "markdown",
   "metadata": {},
   "source": [
    "### Exercise 2 - Evaluate model\n",
    "\n",
    "You will train a quantum system to recall past inputs and evaluate the performance with the memory capacity."
   ]
  },
  {
   "cell_type": "code",
   "execution_count": null,
   "metadata": {},
   "outputs": [],
   "source": [
    "# 1. Posar un exemple amb una box blava: quins son els inputs i quin són els output\n",
    "\n",
    "# 2. Donarlis ja train_inputs, train_targets, test_X i test_y\n"
   ]
  },
  {
   "cell_type": "markdown",
   "metadata": {},
   "source": [
    "### Exercise 3 - Define your own model\n",
    "\n",
    "Build your own reservoir and evaluate performance.\n",
    "\n",
    "Examples:\n",
    " - Ising model\n",
    " - Bose-Hubbard\n",
    " - Previous hamiltonian with qubits.\n",
    "\n",
    "Have fun and explore!\n",
    "\n",
    "_Recall: If you feel stuck, you can check: hamiltonian.py_"
   ]
  },
  {
   "cell_type": "code",
   "execution_count": null,
   "metadata": {},
   "outputs": [],
   "source": []
  }
 ],
 "metadata": {
  "kernelspec": {
   "display_name": "openfermion",
   "language": "python",
   "name": "python3"
  },
  "language_info": {
   "codemirror_mode": {
    "name": "ipython",
    "version": 3
   },
   "file_extension": ".py",
   "mimetype": "text/x-python",
   "name": "python",
   "nbconvert_exporter": "python",
   "pygments_lexer": "ipython3",
   "version": "3.12.3"
  }
 },
 "nbformat": 4,
 "nbformat_minor": 2
}
