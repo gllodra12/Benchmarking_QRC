{
 "cells": [
  {
   "cell_type": "markdown",
   "metadata": {},
   "source": [
    "# Practice - Lecture 24\n",
    "\n",
    "During this lecture we are going to use the library \"benchmarking_qrc\" to learn about quantum reservoir computing. But, we will also use numpy to allow new learners to experiment and built the own code."
   ]
  },
  {
   "cell_type": "code",
   "execution_count": 28,
   "metadata": {},
   "outputs": [],
   "source": [
    "# Only for local use\n",
    "import os\n",
    "import sys\n",
    "\n",
    "repo_path = os.path.dirname(os.getcwd())\n",
    "package_path = repo_path + \"/src\"\n",
    "sys.path.append(package_path)"
   ]
  },
  {
   "cell_type": "code",
   "execution_count": 29,
   "metadata": {},
   "outputs": [],
   "source": [
    "import matplotlib.pyplot as plt\n",
    "import matplotlib.patches as mpatches\n",
    "import numpy as np\n",
    "import pathlib\n",
    "from scipy.linalg import lstsq\n",
    "\n",
    "import benchmarking_qrc as qrc\n",
    "from benchmarking_qrc import run_memory_capacity as mc"
   ]
  },
  {
   "cell_type": "markdown",
   "metadata": {},
   "source": [
    "### Exercise 0 - Define your first Qreservoir\n",
    "\n",
    "To define the initial state you can use `qrc.reservoir.initial_state(num_sites, dim_site)` or `numpy`."
   ]
  },
  {
   "cell_type": "code",
   "execution_count": 33,
   "metadata": {},
   "outputs": [],
   "source": [
    "def initial_reservoir(num_sites, dim_site):\n",
    "    \"\"\"Density matrix with all states at |0>\n",
    "\n",
    "    Args:\n",
    "        num_sites (int): Number of sites in the system\n",
    "        dim_site (int): Hilbert dimension of each site.\n",
    "    \"\"\"\n",
    "    # Put your code here: Prepare the state |00><00|\n",
    "    return qrc.reservoir.initial_state(num_sites, dim_site)"
   ]
  },
  {
   "cell_type": "code",
   "execution_count": 34,
   "metadata": {},
   "outputs": [],
   "source": [
    "def check_solution(solution, exp_solution):\n",
    "    \n",
    "    if solution.shape == exp_solution.shape:\n",
    "        if np.all(solution == exp_solution):\n",
    "            print(\"Correct!\")\n",
    "        else:\n",
    "            print(\"Try again!\")\n",
    "    else:\n",
    "        print(\"Try again!\")"
   ]
  },
  {
   "cell_type": "code",
   "execution_count": 36,
   "metadata": {},
   "outputs": [
    {
     "name": "stdout",
     "output_type": "stream",
     "text": [
      "Correct!\n"
     ]
    }
   ],
   "source": [
    "#solution = initial_reservoir(2, 2)\n",
    "solution = initial_reservoir(2, 2)\n",
    "exp_solution = np.array([[1, 0, 0, 0], [0]*4, [0]*4, [0]*4])\n",
    "\n",
    "check_solution(solution, exp_solution)"
   ]
  },
  {
   "cell_type": "markdown",
   "metadata": {},
   "source": [
    "Now, we will define the dynamics of the system following this quadratic hamiltonian \n",
    "$$ H = \\sum_{i,j=1}^{N}J_{ij}a_{i}^{\\dagger}a_{j} $$\n",
    "and the evolution operator associated to it: $e^{-iH\\Delta t}$.\n",
    "\n",
    "You can define the $J_{ij}$ coefficients with: \n",
    "- `qrc.hamiltonian.get_coefficients(num_sites, coef_range=[0, 1], seed=1)`.  \n",
    "\n",
    "Define a quadratic hamiltonian with:  \n",
    "- `qrc.hamiltonian.quadratic_op(num_sites, is_bosonic=..., dimensions=..., coefficients=...)`\n",
    "\n",
    "and build the evolution operator with:\n",
    "-  `qrc.hamiltonian.get_evolution_op(hamiltonian, dt=...)`\n"
   ]
  },
  {
   "cell_type": "code",
   "execution_count": 38,
   "metadata": {},
   "outputs": [],
   "source": [
    "def my_hamiltonian(num_sites, dim_site):\n",
    "    \"\"\"Define previous quadratic hamiltonian\n",
    "\n",
    "    Args:\n",
    "        num_sites (_type_): Number of sites in the system.\n",
    "        dim_site (_type_): Hilbert dimension of each site.\n",
    "    \"\"\"\n",
    "    # Put your code here: Define J_ij coefficients\n",
    "    J_ij = qrc.hamiltonian.get_coefficients(num_sites, coef_range=[0, 1], seed=1) \n",
    "    \n",
    "    # Put your code here: Define quadratic hamiltonian\n",
    "    return qrc.hamiltonian.quadratic_op(num_sites, is_bosonic=False, dimensions=dim_site, coefficients=J_ij)\n",
    "\n",
    "\n",
    "def evolution_op(hamiltonian, delta_t):\n",
    "    \"\"\"Define the evolution operator related to the previous hamiltonian\n",
    "    and let it evolves for 10 units.\n",
    "\n",
    "    Args:\n",
    "        hamiltonian (np.array): Matrix describing system dynamics.\n",
    "        delta_t (float): Time we let the system evolve.\n",
    "    \"\"\"\n",
    "    # Put your code here: Define evolution operator\n",
    "    return qrc.hamiltonian.get_evolution_op(hamiltonian, dt=delta_t)\n",
    "    \n",
    "    "
   ]
  },
  {
   "cell_type": "code",
   "execution_count": 46,
   "metadata": {},
   "outputs": [
    {
     "name": "stdout",
     "output_type": "stream",
     "text": [
      "Checking solution hamiltonian...\n",
      "Correct!\n",
      "Checking evolution operator...\n",
      "Correct!\n"
     ]
    }
   ],
   "source": [
    "solution_hamiltonian = my_hamiltonian(2, 2)\n",
    "solution_evolution = evolution_op(my_hamiltonian(2, 2), 10)\n",
    "\n",
    "\n",
    "exp_sol_hamiltonian = np.array([\n",
    "    [0.+0.j]*4, \n",
    "    [0.+0.j, 0.72+0.j, 0.+0.j  , 0.+0.j  ], \n",
    "    [0.+0.j, 0.+0.j  , 0.42+0.j, 0.+0.j  ], \n",
    "    [0.+0.j, 0.+0.j  , 0.+0.j  , 1.14+0.j]\n",
    "])\n",
    "exp_sol_evolution = np.array([\n",
    "   [ 1.+0.j, 0.  +0.j ,  0.  +0.j  ,  0.  +0.j  ], \n",
    "   [ 0.+0.j, 0.61-0.8j,  0.  -0.j  ,  0.  +0.j  ],\n",
    "   [ 0.+0.j, 0.  -0.j , -0.52+0.86j,  0.  +0.j  ],\n",
    "   [ 0.+0.j, 0.  +0.j ,  0.  +0.j  ,  0.37+0.93j]\n",
    "])\n",
    "\n",
    "print(\"Checking solution hamiltonian...\")\n",
    "check_solution(np.around(solution_hamiltonian.todense(), 2), exp_sol_hamiltonian)\n",
    "print(\"Checking evolution operator...\")\n",
    "check_solution(np.around(solution_evolution, 2), exp_sol_evolution)\n"
   ]
  },
  {
   "cell_type": "code",
   "execution_count": null,
   "metadata": {},
   "outputs": [],
   "source": []
  },
  {
   "cell_type": "markdown",
   "metadata": {},
   "source": [
    "### Exercise 1 - Echo State Property"
   ]
  },
  {
   "cell_type": "code",
   "execution_count": null,
   "metadata": {},
   "outputs": [],
   "source": []
  },
  {
   "cell_type": "markdown",
   "metadata": {},
   "source": [
    "### Exercise 2 - Evaluate model\n",
    "\n",
    "You will train a quantum system to recall past inputs and evaluate the performance with the memory capacity."
   ]
  },
  {
   "cell_type": "code",
   "execution_count": null,
   "metadata": {},
   "outputs": [],
   "source": [
    "# 1. Posar un exemple amb una box blava: quins son els inputs i quin són els output\n",
    "\n",
    "# 2. Donarlis ja train_inputs, train_targets, test_X i test_y\n"
   ]
  },
  {
   "cell_type": "markdown",
   "metadata": {},
   "source": [
    "### Exercise 3 - Define your own model\n",
    "\n",
    "Build your own reservoir and evaluate performance.\n",
    "\n",
    "Examples:\n",
    " - Ising model\n",
    " - Bose-Hubbard\n",
    " - Previous hamiltonian with qubits.\n",
    "\n",
    "Have fun and explore!\n",
    "\n",
    "_Recall: If you feel stuck, you can check: hamiltonian.py_"
   ]
  },
  {
   "cell_type": "code",
   "execution_count": null,
   "metadata": {},
   "outputs": [],
   "source": []
  }
 ],
 "metadata": {
  "kernelspec": {
   "display_name": "openfermion",
   "language": "python",
   "name": "python3"
  },
  "language_info": {
   "codemirror_mode": {
    "name": "ipython",
    "version": 3
   },
   "file_extension": ".py",
   "mimetype": "text/x-python",
   "name": "python",
   "nbconvert_exporter": "python",
   "pygments_lexer": "ipython3",
   "version": "3.9.19"
  }
 },
 "nbformat": 4,
 "nbformat_minor": 2
}
